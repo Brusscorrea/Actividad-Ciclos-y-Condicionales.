{
  "cells": [
    {
      "cell_type": "markdown",
      "metadata": {
        "id": "view-in-github",
        "colab_type": "text"
      },
      "source": [
        "<a href=\"https://colab.research.google.com/github/Brusscorrea/Actividad-Ciclos-y-Condicionales./blob/main/Actividad_3_000556755.ipynb\" target=\"_parent\"><img src=\"https://colab.research.google.com/assets/colab-badge.svg\" alt=\"Open In Colab\"/></a>"
      ]
    },
    {
      "cell_type": "markdown",
      "source": [
        "## ciclos y condicionales\n",
        "\n",
        " *Fecha:* 22 de marzo de 2024\n",
        "\n",
        " *Presentado por:* Brusse Correa Roqueme\n",
        "\n",
        " *Email:* brusse.correa@upb.edu.co"
      ],
      "metadata": {
        "id": "xTiVdZW1LqHu"
      }
    },
    {
      "cell_type": "code",
      "source": [
        "import math\n",
        "frecuencia_señal = int(input(\"Ingrese la frecuencia de la señal: \"))\n",
        "med = 1000\n",
        "DESVIACION_ESTANDAR = 300\n",
        "UMBRAL = 0.3\n",
        "probabilidad_acumulada = 0\n",
        "for f in range(frecuencia_señal + 1):\n",
        "    resultado = (1 / (DESVIACION_ESTANDAR * math.sqrt(2 * math.pi))) * math.exp(-(1/2) * ((f - med) / DESVIACION_ESTANDAR) ** 2)\n",
        "    probabilidad_acumulada += resultado\n",
        "if probabilidad_acumulada > UMBRAL:\n",
        "    print(resultado)\n",
        "    print(\"La señal pasa el filtro.\")\n",
        "else:\n",
        "    print(resultado)\n",
        "    print(\"La señal es bloqueada por el filtro.\")"
      ],
      "metadata": {
        "id": "DfLNcI03JKTL"
      },
      "execution_count": null,
      "outputs": []
    }
  ],
  "metadata": {
    "colab": {
      "provenance": [],
      "include_colab_link": true
    },
    "kernelspec": {
      "display_name": "Python 3",
      "name": "python3"
    }
  },
  "nbformat": 4,
  "nbformat_minor": 0
}